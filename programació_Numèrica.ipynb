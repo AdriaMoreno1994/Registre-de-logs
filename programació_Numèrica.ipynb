{
 "cells": [
  {
   "cell_type": "markdown",
   "metadata": {},
   "source": [
    "# <center> Programació numèrica"
   ]
  },
  {
   "cell_type": "markdown",
   "metadata": {},
   "source": [
    "## __**Excercici 1**__\n",
    "\n",
    "Crea una funció que donat un Array d’una dimensió, et faci un resum estadístic bàsic de les dades. \n",
    "Si detecta que l’array té més d’una dimensió, ha de mostrar un missatge d’error."
   ]
  },
  {
   "cell_type": "code",
   "execution_count": 36,
   "metadata": {},
   "outputs": [],
   "source": [
    "import numpy as np\n",
    "import pandas as pd"
   ]
  },
  {
   "cell_type": "code",
   "execution_count": 37,
   "metadata": {},
   "outputs": [
    {
     "name": "stdout",
     "output_type": "stream",
     "text": [
      "count                   1\n",
      "unique                  1\n",
      "top       [2, 3, 3, 1, 0]\n",
      "freq                    1\n",
      "dtype: object\n"
     ]
    }
   ],
   "source": [
    "def resum_estadistic(arr):\n",
    "    data = pd.Series([x])\n",
    "    if arr.ndim != 1:\n",
    "        raise Exception(\"ha de ser unidimensional\")\n",
    "    else:\n",
    "        print(data.describe())\n",
    "if __name__ == \"__main__\":\n",
    "        x = np.random.randint(0,10,5)\n",
    "        resum_estadistic(x)\n",
    "        "
   ]
  },
  {
   "cell_type": "markdown",
   "metadata": {},
   "source": [
    "## __**Excercici 2**__\n",
    "\n",
    "Crea una funció que et generi un quadrat NxN de nombres aleatoris entre el 0 i el 100"
   ]
  },
  {
   "cell_type": "code",
   "execution_count": 38,
   "metadata": {},
   "outputs": [
    {
     "name": "stdout",
     "output_type": "stream",
     "text": [
      "[[99 40 60 92]\n",
      " [52 97  2 30]\n",
      " [69 73 72 41]\n",
      " [96 71 91 43]]\n"
     ]
    }
   ],
   "source": [
    "def square():\n",
    "    y = np.random.randint(2,5)\n",
    "    matrix = np.random.randint(0,100,(y,y))\n",
    "    print(matrix)\n",
    "if __name__ == \"__main__\":\n",
    "    square()"
   ]
  },
  {
   "cell_type": "markdown",
   "metadata": {},
   "source": [
    "## __**Excercici 3**__\n",
    "\n",
    "Crea una funció que donada una taula de dues dimensions, et calculi els totals per fila i els totals per columna."
   ]
  },
  {
   "cell_type": "code",
   "execution_count": 39,
   "metadata": {},
   "outputs": [
    {
     "name": "stdout",
     "output_type": "stream",
     "text": [
      "    A   B   C   D   E\n",
      "0  14  56  99  35   4\n",
      "1   3  86  92  69  72\n",
      "2   3   9  36  26  98\n",
      "3  86  59  60  27  24\n",
      "4  82   2  34   5  41\n",
      "A    188\n",
      "B    212\n",
      "C    321\n",
      "D    162\n",
      "E    239\n",
      "dtype: int64\n",
      "0    208\n",
      "1    322\n",
      "2    172\n",
      "3    256\n",
      "4    164\n",
      "dtype: int64\n"
     ]
    }
   ],
   "source": [
    "def total(df):\n",
    "\n",
    "    sum_colums =df.sum(axis=0)\n",
    "    sum_rows = df.sum(axis= 1)\n",
    "    print(df)\n",
    "    print(sum_colums)\n",
    "    print(sum_rows)\n",
    "if __name__ == \"__main__\":\n",
    "    df = pd.DataFrame(np.random.randint(0, 100, size=(5, 5)), columns=list('ABCDE'))\n",
    "    total(df)"
   ]
  },
  {
   "cell_type": "markdown",
   "metadata": {},
   "source": [
    "## __**Excercici 4**__\n",
    "\n",
    "Implementa manualment una funció que calculi el coeficient de correlació. Informa’t-en sobre els seus usos i interpretació."
   ]
  },
  {
   "cell_type": "code",
   "execution_count": 40,
   "metadata": {},
   "outputs": [
    {
     "name": "stdout",
     "output_type": "stream",
     "text": [
      "    X   Y   Y^2   X^2   X*Y\n",
      "0  55  52  2704  3025  2860\n",
      "1  25  76  5776   625  1900\n",
      "2  55   2     4  3025   110\n",
      "3  95  24   576  9025  2280\n",
      "4  15  73  5329   225  1095\n",
      "5  56  18   324  3136  1008\n",
      "6  99   2     4  9801   198\n",
      "7  28  79  6241   784  2212\n",
      "8   6  54  2916    36   324\n",
      "9  68  32  1024  4624  2176\n",
      "\n",
      "Mitja de X: 50.2\n",
      "Mitja de Y: 41.2\n",
      "Mitja del producte de X i Y: 1416.3\n",
      "Producte de la mitja de X i la mitja Y 2068.2400000000002\n",
      "Covariança -651.9400000000003\n",
      "Desviació_tipica de X: 30.175486740067665\n",
      "Desviació_tipica de Y: 28.14888985377576\n",
      "Coeficient de correlació: -0.7675241906368655\n"
     ]
    }
   ],
   "source": [
    "def coeficient_correlacio():\n",
    "    data = pd.DataFrame(np.random.randint(0, 100, size=(10, 2)), columns=list('XY'))\n",
    "    product_x_y = pd.Series([],dtype='float64')\n",
    "    power_x =pd.Series([],dtype='float64')\n",
    "    power_y = pd.Series([],dtype='float64')\n",
    "    \n",
    "    for index,row  in data.iterrows():\n",
    "\n",
    "        c = row[0]*row[1]\n",
    "        product_x_y[index]= c\n",
    "        power_x[index]=row[0]**2\n",
    "        power_y[index] = row[1]**2\n",
    "\n",
    "    data.insert(2,'X*Y',product_x_y)\n",
    "    data.insert(2,'X^2',power_x)\n",
    "    data.insert(2, 'Y^2', power_y)\n",
    "\n",
    "    print(data)\n",
    "   \n",
    "    mitja_x = data['X'].sum()/len(data)\n",
    "    mitja_y = data['Y'].sum() / len(data)\n",
    "    print(\"\\nMitja de X:\", mitja_x)\n",
    "    print(\"Mitja de Y:\",mitja_y)\n",
    "    \n",
    "    \n",
    "\n",
    "    mitja_product_x_y = data['X*Y'].sum() /len(data)\n",
    "    covariança = mitja_product_x_y - (mitja_x * mitja_y)\n",
    "    print(\"Mitja del producte de X i Y:\",mitja_product_x_y)\n",
    "    print(\"Producte de la mitja de X i la mitja Y\",mitja_x * mitja_y)\n",
    "    print(\"Covariança\", covariança)\n",
    "    desviacio_tipica_x =np.sqrt((data['X^2'].sum()/len(data))- (mitja_x **\n",
    "                                                                2))\n",
    "    desviacio_tipica_y = np.sqrt((data['Y^2'].sum() / len(data)) - (mitja_y ** 2))\n",
    "    print(\"Desviació_tipica de X:\",desviacio_tipica_x)\n",
    "    print(\"Desviació_tipica de Y:\",desviacio_tipica_y)\n",
    "    coef_correlacio = (covariança)/(desviacio_tipica_x  * desviacio_tipica_y)\n",
    "    print(\"Coeficient de correlació:\",coef_correlacio)\n",
    "    \n",
    "if __name__ == \"__main__\":\n",
    "    coeficient_correlacio()"
   ]
  }
 ],
 "metadata": {
  "kernelspec": {
   "display_name": "Python 3",
   "language": "python",
   "name": "python3"
  },
  "language_info": {
   "codemirror_mode": {
    "name": "ipython",
    "version": 3
   },
   "file_extension": ".py",
   "mimetype": "text/x-python",
   "name": "python",
   "nbconvert_exporter": "python",
   "pygments_lexer": "ipython3",
   "version": "3.8.5"
  }
 },
 "nbformat": 4,
 "nbformat_minor": 4
}
