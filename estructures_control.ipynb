{
 "cells": [
  {
   "cell_type": "markdown",
   "metadata": {},
   "source": [
    "# <center> Estructures de control"
   ]
  },
  {
   "cell_type": "code",
   "execution_count": null,
   "metadata": {},
   "outputs": [],
   "source": [
    "def notes(nota):\n",
    "    if nota<5:\n",
    "        print(\"Suspès\")\n",
    "    else:\n",
    "        if 5<= nota <=6:\n",
    "            print(\"Aprovat\")\n",
    "        elif 7<= nota <=8:\n",
    "            print(\"Notable\")\n",
    "        elif nota>=9:\n",
    "            print(\"Exel·lent\")\n",
    "            \n",
    "   \n",
    "   \n",
    "if __name__ == \"__main__\":\n",
    "    nota = int(input(\"Introdueix la nota:\"))\n",
    "    notes(nota)\n",
    "    \n"
   ]
  },
  {
   "cell_type": "code",
   "execution_count": null,
   "metadata": {},
   "outputs": [],
   "source": [
    "def ex2():\n",
    "    x = input(\"Introdueix un numero: \")\n",
    "    y = input(\"Introdueix un altra numbero: \")\n",
    "\n",
    "    if x>y:\n",
    "        print(\"El primer número és mes gran\")\n",
    "    elif x<y:\n",
    "        print(\"El segon número és mes gran\")\n",
    "    else:\n",
    "        print(\" els dos numeros son iguals\")\n",
    "if __name__ == \"__main__\":\n",
    "    ex2()\n",
    "    "
   ]
  },
  {
   "cell_type": "code",
   "execution_count": null,
   "metadata": {},
   "outputs": [],
   "source": [
    "def ex3():\n",
    "    name = input(\"Nom: \")\n",
    "    num = int(input(\"Número:\"))\n",
    "    if num <= 0:\n",
    "        raise Exception(\"EL nombre a de ser superior a 0\")\n",
    "    else:\n",
    "        i =0\n",
    "        while i < num:\n",
    "            print(name)\n",
    "            i+=1\n",
    "\n",
    "if __name__ == \"__main__\":\n",
    "    \n",
    "    ex3()\n",
    "    "
   ]
  },
  {
   "cell_type": "code",
   "execution_count": null,
   "metadata": {},
   "outputs": [],
   "source": [
    "def symetric(llista:list):\n",
    "    rev = llista.copy()\n",
    "    rev.reverse()\n",
    "\n",
    "\n",
    "\n",
    "    if llista == rev:\n",
    "        print(\"Es simetrica\")\n",
    "    else:\n",
    "        print(\"la llista no es simetrica\")\n",
    "if __name__ == \"__main__\":\n",
    "    llista = [int(item) for item in input(\"Escriu una llista de numeros: \").split()]\n",
    "    symetric(llista)"
   ]
  },
  {
   "cell_type": "code",
   "execution_count": null,
   "metadata": {},
   "outputs": [],
   "source": [
    "def  ex5(llista:list):\n",
    "    i = 0\n",
    "    indList = list(range(len(llista)))\n",
    "    for x in llista:\n",
    "        if x == indList[i]:\n",
    "            print(\"el\",x,\"conicideix\")\n",
    "        i+=1\n",
    "if __name__ == \"__main__\":\n",
    "    llista = [int(item) for item in input(\"Escriu una llista de numeros: \").split()]\n",
    "    ex5(llista)"
   ]
  }
 ],
 "metadata": {
  "kernelspec": {
   "display_name": "Python 3",
   "language": "python",
   "name": "python3"
  },
  "language_info": {
   "codemirror_mode": {
    "name": "ipython",
    "version": 3
   },
   "file_extension": ".py",
   "mimetype": "text/x-python",
   "name": "python",
   "nbconvert_exporter": "python",
   "pygments_lexer": "ipython3",
   "version": "3.8.5"
  }
 },
 "nbformat": 4,
 "nbformat_minor": 4
}
